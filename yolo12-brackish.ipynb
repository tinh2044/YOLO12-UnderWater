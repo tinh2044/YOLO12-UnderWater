{
    "cells": [
        {
            "cell_type": "code",
            "execution_count": null,
            "metadata": {
                "colab": {
                    "base_uri": "https://localhost:8080/"
                },
                "id": "S1EREBTtjrgc",
                "outputId": "5aec033c-aa6d-44f7-acfc-00531131a9c4",
                "trusted": true
            },
            "outputs": [],
            "source": [
                "import os\n",
                "HOME = os.getcwd()\n",
                "print(HOME)"
            ]
        },
        {
            "cell_type": "code",
            "execution_count": null,
            "metadata": {
                "colab": {
                    "base_uri": "https://localhost:8080/"
                },
                "id": "8JKctYYXV3tv",
                "outputId": "c365091f-d589-4041-bfc8-fd96246cddeb",
                "trusted": true
            },
            "outputs": [],
            "source": [
                "# !pip install -q git+https://github.com/sunsmarterjie/yolov12.git roboflow supervision flash-attn"
            ]
        },
        {
            "cell_type": "code",
            "execution_count": null,
            "metadata": {
                "trusted": true
            },
            "outputs": [],
            "source": [
                "# !pip install --upgrade -q ultralytics"
            ]
        },
        {
            "cell_type": "code",
            "execution_count": null,
            "metadata": {
                "trusted": true
            },
            "outputs": [],
            "source": [
                "import torch\n",
                "torch.backends.cuda.matmul.allow_tf32 = True  # Giúp tăng hiệu suất trên GPU\n",
                "torch.backends.cudnn.benchmark = True  # Cho phép CUDNN chọn thuật toán tối ưu nhất\n",
                "torch.use_deterministic_algorithms(True, warn_only=False)"
            ]
        },
        {
            "cell_type": "code",
            "execution_count": null,
            "metadata": {
                "scrolled": true,
                "trusted": true
            },
            "outputs": [],
            "source": [
                "!yolo detect train data=/kaggle/input/brackish/data.yaml \\\n",
                "model= /kaggle/input/yolo12/pytorch/underwater/2/best.pt \\\n",
                "epochs=50 device=0,1 batch=128 workers=4 optimizer=AdamW dropout=0.2\\\n",
                "lr0=1e-4, lrf=2e-4"
            ]
        },
        {
            "cell_type": "markdown",
            "metadata": {
                "id": "RMhVugreT5A5"
            },
            "source": [
                "## Evaluate fine-tuned YOLOv12 model"
            ]
        },
        {
            "cell_type": "code",
            "execution_count": null,
            "metadata": {
                "colab": {
                    "base_uri": "https://localhost:8080/"
                },
                "id": "Nm1FRMzDTYoR",
                "outputId": "1f539f21-36f0-44a7-e956-c55db8b46df8",
                "trusted": true
            },
            "outputs": [],
            "source": [
                "import locale\n",
                "locale.getpreferredencoding = lambda: \"UTF-8\"\n",
                "\n",
                "!ls {HOME}/runs/detect/train2/"
            ]
        },
        {
            "cell_type": "code",
            "execution_count": null,
            "metadata": {
                "colab": {
                    "base_uri": "https://localhost:8080/",
                    "height": 767
                },
                "id": "0W8FDBVZbRdo",
                "outputId": "04f0fca1-a4eb-4c78-caa4-d3bd4c6996b7",
                "trusted": true
            },
            "outputs": [],
            "source": [
                "from IPython.display import Image\n",
                "\n",
                "Image(filename=f'{HOME}/runs/detect/train2/confusion_matrix.png', width=1000)"
            ]
        },
        {
            "cell_type": "code",
            "execution_count": null,
            "metadata": {
                "colab": {
                    "base_uri": "https://localhost:8080/",
                    "height": 517
                },
                "id": "I9y8zJ8nlBUT",
                "outputId": "d2362633-979e-42fb-c4a6-ff727c392c88",
                "trusted": true
            },
            "outputs": [],
            "source": [
                "from IPython.display import Image\n",
                "\n",
                "Image(filename=f'{HOME}/runs/detect/train2/results.png', width=1000)"
            ]
        },
        {
            "cell_type": "code",
            "execution_count": null,
            "metadata": {
                "colab": {
                    "base_uri": "https://localhost:8080/"
                },
                "id": "a2KT2JlGVS_-",
                "outputId": "51512478-f83b-49c6-aaa6-89121dd4125d",
                "trusted": true
            },
            "outputs": [],
            "source": [
                "import supervision as sv\n",
                "\n",
                "ds = sv.DetectionDataset.from_yolo(\n",
                "    images_directory_path=f\"/kaggle/input/brackish/test/images\",\n",
                "    annotations_directory_path=f\"/kaggle/input/brackish/test/labels\",\n",
                "    data_yaml_path=f\"/kaggle/input/brackish/data.yaml\"\n",
                ")\n",
                "\n",
                "ds.classes"
            ]
        },
        {
            "cell_type": "code",
            "execution_count": null,
            "metadata": {
                "id": "sBZCaDvZWpHc",
                "trusted": true
            },
            "outputs": [],
            "source": [
                "from supervision.metrics import MeanAveragePrecision\n",
                "from yolo12 import YOLO\n",
                "model = YOLO(f'/{HOME}/runs/detect/train2/weights/best.pt')\n",
                "\n",
                "predictions = []\n",
                "targets = []\n",
                "\n",
                "for _, image, target in ds:\n",
                "    results = model(image, verbose=False)[0]\n",
                "    detections = sv.Detections.from_ultralytics(results)\n",
                "\n",
                "    predictions.append(detections)\n",
                "    targets.append(target)\n",
                "\n",
                "map = MeanAveragePrecision().update(predictions, targets).compute()"
            ]
        },
        {
            "cell_type": "code",
            "execution_count": null,
            "metadata": {
                "colab": {
                    "base_uri": "https://localhost:8080/"
                },
                "id": "0U9bcrjBXPT2",
                "outputId": "fdef7cb2-d507-4bf7-8021-40f69ed9ba6f",
                "trusted": true
            },
            "outputs": [],
            "source": [
                "print(\"mAP 50:95\", map.map50_95)\n",
                "print(\"mAP 50\", map.map50)\n",
                "print(\"mAP 75\", map.map75)"
            ]
        },
        {
            "cell_type": "code",
            "execution_count": null,
            "metadata": {
                "colab": {
                    "base_uri": "https://localhost:8080/",
                    "height": 607
                },
                "id": "qmD1SFofXf_o",
                "outputId": "050654e7-a798-440f-a7d0-f53f87a5e6d3",
                "trusted": true
            },
            "outputs": [],
            "source": [
                "map.plot()"
            ]
        },
        {
            "cell_type": "markdown",
            "metadata": {
                "id": "nAObQt4nlKLD"
            },
            "source": [
                "## Run inference with fine-tuned YOLOv12 model"
            ]
        },
        {
            "cell_type": "code",
            "execution_count": null,
            "metadata": {
                "id": "jRMVH1pnoXgD",
                "trusted": true
            },
            "outputs": [],
            "source": [
                "import supervision as sv\n",
                "\n",
                "model = YOLO(f'/{HOME}/runs/detect/train2/weights/best.pt')\n",
                "\n",
                "ds = sv.DetectionDataset.from_yolo(\n",
                "    images_directory_path=f\"/kaggle/input/brackish/test/images\",\n",
                "    annotations_directory_path=f\"/kaggle/input/brackish/test/labels\",\n",
                "    data_yaml_path=f\"/kaggle/input/brackish/data.yaml\"\n",
                ")"
            ]
        },
        {
            "cell_type": "code",
            "execution_count": null,
            "metadata": {
                "colab": {
                    "base_uri": "https://localhost:8080/",
                    "height": 961
                },
                "id": "7S97p_O7YPsa",
                "outputId": "845db775-d00c-432a-8c9e-df11d0f99d67",
                "trusted": true
            },
            "outputs": [],
            "source": [
                "import random\n",
                "\n",
                "i = random.randint(0, len(ds))\n",
                "\n",
                "image_path, image, target = ds[1]\n",
                "\n",
                "results = model(image, verbose=False)[0]\n",
                "detections = sv.Detections.from_ultralytics(results).with_nms()\n",
                "\n",
                "box_annotator = sv.BoxAnnotator()\n",
                "label_annotator = sv.LabelAnnotator()\n",
                "\n",
                "annotated_image = image.copy()\n",
                "annotated_image = box_annotator.annotate(scene=annotated_image, detections=detections)\n",
                "annotated_image = label_annotator.annotate(scene=annotated_image, detections=detections)\n",
                "\n",
                "sv.plot_image(annotated_image)"
            ]
        },
        {
            "cell_type": "markdown",
            "metadata": {
                "execution": {
                    "iopub.execute_input": "2025-02-26T02:59:55.257914Z",
                    "iopub.status.busy": "2025-02-26T02:59:55.257639Z",
                    "iopub.status.idle": "2025-02-26T02:59:55.271990Z",
                    "shell.execute_reply": "2025-02-26T02:59:55.270705Z",
                    "shell.execute_reply.started": "2025-02-26T02:59:55.257894Z"
                }
            },
            "source": [
                "###### batch"
            ]
        },
        {
            "cell_type": "code",
            "execution_count": null,
            "metadata": {
                "trusted": true
            },
            "outputs": [],
            "source": [
                "!zip ./output.zip -r /kaggle/working/runs"
            ]
        },
        {
            "cell_type": "code",
            "execution_count": null,
            "metadata": {
                "trusted": true
            },
            "outputs": [],
            "source": []
        }
    ],
    "metadata": {
        "accelerator": "GPU",
        "colab": {
            "gpuType": "T4",
            "machine_shape": "hm",
            "provenance": []
        },
        "kaggle": {
            "accelerator": "nvidiaTeslaT4",
            "dataSources": [
                {
                    "datasetId": 6735368,
                    "sourceId": 10845144,
                    "sourceType": "datasetVersion"
                },
                {
                    "isSourceIdPinned": true,
                    "modelId": 250802,
                    "modelInstanceId": 229057,
                    "sourceId": 268565,
                    "sourceType": "modelInstanceVersion"
                }
            ],
            "dockerImageVersionId": 30919,
            "isGpuEnabled": true,
            "isInternetEnabled": true,
            "language": "python",
            "sourceType": "notebook"
        },
        "kernelspec": {
            "display_name": "Python 3",
            "language": "python",
            "name": "python3"
        },
        "language_info": {
            "codemirror_mode": {
                "name": "ipython",
                "version": 3
            },
            "file_extension": ".py",
            "mimetype": "text/x-python",
            "name": "python",
            "nbconvert_exporter": "python",
            "pygments_lexer": "ipython3",
            "version": "3.10.12"
        }
    },
    "nbformat": 4,
    "nbformat_minor": 4
}